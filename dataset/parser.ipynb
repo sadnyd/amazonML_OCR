{
 "cells": [
  {
   "cell_type": "code",
   "execution_count": 24,
   "metadata": {},
   "outputs": [],
   "source": [
    "import pandas as pd\n",
    "import re\n",
    "df=pd.read_csv('tesseract_new_dataset_ocr.csv')"
   ]
  },
  {
   "cell_type": "code",
   "execution_count": 25,
   "metadata": {},
   "outputs": [],
   "source": [
    "import re\n",
    "\n",
    "def extract_numbers(text):\n",
    "    # Replace commas with periods\n",
    "    text = text.replace(',', '.')\n",
    "    \n",
    "    # Find all occurrences of numbers and decimals, including those with dashes\n",
    "    matches = re.finditer(r'(\\d+\\.?\\d*)(?:-(\\d+\\.?\\d*))?', text)\n",
    "    \n",
    "    results = []\n",
    "    for match in matches:\n",
    "        if match.group(2):  # If there is a second number (after the dash)\n",
    "            number1 = match.group(1)\n",
    "            number2 = match.group(2)\n",
    "            number = f\"{number1}-{number2}\"\n",
    "        else:  # No dash, just a single number\n",
    "            number = match.group(1)\n",
    "        \n",
    "        start = match.start()\n",
    "        end = match.end()\n",
    "        \n",
    "        # Extract the 5 characters before and after the match\n",
    "        before = text[max(start-5, 0):start]\n",
    "        after = text[end:end+5]\n",
    "        \n",
    "        # Append the result in the format [number, after, before]\n",
    "        results.append([number, after, before])\n",
    "    \n",
    "    return results\n"
   ]
  },
  {
   "cell_type": "code",
   "execution_count": 26,
   "metadata": {},
   "outputs": [],
   "source": [
    "df['extracted_data'] = df['pytesseract_output'].apply(lambda x: extract_numbers(x))\n"
   ]
  },
  {
   "cell_type": "code",
   "execution_count": 27,
   "metadata": {},
   "outputs": [],
   "source": [
    "df.to_csv('extract_numbers.csv', index=False)"
   ]
  },
  {
   "cell_type": "code",
   "execution_count": null,
   "metadata": {},
   "outputs": [],
   "source": []
  }
 ],
 "metadata": {
  "kernelspec": {
   "display_name": "Python 3",
   "language": "python",
   "name": "python3"
  },
  "language_info": {
   "codemirror_mode": {
    "name": "ipython",
    "version": 3
   },
   "file_extension": ".py",
   "mimetype": "text/x-python",
   "name": "python",
   "nbconvert_exporter": "python",
   "pygments_lexer": "ipython3",
   "version": "3.8.10"
  }
 },
 "nbformat": 4,
 "nbformat_minor": 2
}
