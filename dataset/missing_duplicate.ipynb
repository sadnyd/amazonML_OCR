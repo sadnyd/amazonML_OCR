{
 "cells": [
  {
   "cell_type": "code",
   "execution_count": null,
   "metadata": {},
   "outputs": [],
   "source": [
    "import pandas as pd\n",
    "\n",
    "\n",
    "df = pd.read_csv('tesseract_new_dataset_ocr.csv')\n",
    "\n",
    "# Step 1: Remove duplicate index values, keeping the first occurrence\n",
    "df_unique = df[~df.index.duplicated(keep='first')]\n",
    "\n",
    "# Step 2: Find the missing indexes\n",
    "# Assuming the index should be a complete range from the minimum to maximum index in the DataFrame\n",
    "full_index = pd.Index(range(df_unique.index.min(), df_unique.index.max() + 1))\n",
    "missing_indexes = full_index.difference(df_unique.index)\n",
    "\n",
    "# Step 3: Create a DataFrame for missing indexes\n",
    "# If you want to keep the structure of the original DataFrame, use NaN for the missing rows\n",
    "df_missing = pd.DataFrame(index=missing_indexes, columns=df.columns)\n",
    "\n",
    "# Output results\n",
    "print(\"DataFrame with unique index values:\")\n",
    "print(df_unique)\n",
    "print(\"\\nDataFrame with missing indexes:\")\n",
    "print(df_missing)\n"
   ]
  }
 ],
 "metadata": {
  "language_info": {
   "name": "python"
  }
 },
 "nbformat": 4,
 "nbformat_minor": 2
}
