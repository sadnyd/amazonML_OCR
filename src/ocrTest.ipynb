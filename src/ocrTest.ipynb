{
 "cells": [
  {
   "cell_type": "code",
   "execution_count": 1,
   "id": "initial_id",
   "metadata": {
    "ExecuteTime": {
     "end_time": "2024-09-13T21:42:09.256211500Z",
     "start_time": "2024-09-13T21:13:44.263159Z"
    },
    "collapsed": true
   },
   "outputs": [],
   "source": [
    "import os\n",
    "import pandas as pd"
   ]
  },
  {
   "cell_type": "code",
   "execution_count": 3,
   "id": "16bef4697244cdad",
   "metadata": {
    "ExecuteTime": {
     "end_time": "2024-09-13T21:42:09.287445500Z",
     "start_time": "2024-09-13T21:13:45.396662Z"
    }
   },
   "outputs": [],
   "source": [
    "dataframe=pd.read_csv('../dataset/new_dataset.csv')"
   ]
  },
  {
   "cell_type": "code",
   "execution_count": 4,
   "id": "e7de0eb64e4faa29",
   "metadata": {
    "ExecuteTime": {
     "end_time": "2024-09-13T21:42:09.287445500Z",
     "start_time": "2024-09-13T21:13:56.069642Z"
    }
   },
   "outputs": [
    {
     "data": {
      "text/html": [
       "<div>\n",
       "<style scoped>\n",
       "    .dataframe tbody tr th:only-of-type {\n",
       "        vertical-align: middle;\n",
       "    }\n",
       "\n",
       "    .dataframe tbody tr th {\n",
       "        vertical-align: top;\n",
       "    }\n",
       "\n",
       "    .dataframe thead th {\n",
       "        text-align: right;\n",
       "    }\n",
       "</style>\n",
       "<table border=\"1\" class=\"dataframe\">\n",
       "  <thead>\n",
       "    <tr style=\"text-align: right;\">\n",
       "      <th></th>\n",
       "      <th>Unnamed: 0</th>\n",
       "      <th>image_link</th>\n",
       "      <th>group_id</th>\n",
       "      <th>entity_name</th>\n",
       "      <th>entity_value</th>\n",
       "    </tr>\n",
       "  </thead>\n",
       "  <tbody>\n",
       "    <tr>\n",
       "      <th>0</th>\n",
       "      <td>56011</td>\n",
       "      <td>https://m.media-amazon.com/images/I/81Zj22Ls67...</td>\n",
       "      <td>308856</td>\n",
       "      <td>item_weight</td>\n",
       "      <td>3 kilogram</td>\n",
       "    </tr>\n",
       "    <tr>\n",
       "      <th>1</th>\n",
       "      <td>54552</td>\n",
       "      <td>https://m.media-amazon.com/images/I/71L5fItQsf...</td>\n",
       "      <td>709627</td>\n",
       "      <td>item_weight</td>\n",
       "      <td>14.4 gram</td>\n",
       "    </tr>\n",
       "    <tr>\n",
       "      <th>2</th>\n",
       "      <td>15224</td>\n",
       "      <td>https://m.media-amazon.com/images/I/61oJja5LYy...</td>\n",
       "      <td>489118</td>\n",
       "      <td>item_weight</td>\n",
       "      <td>1.04 kilogram</td>\n",
       "    </tr>\n",
       "    <tr>\n",
       "      <th>3</th>\n",
       "      <td>119595</td>\n",
       "      <td>https://m.media-amazon.com/images/I/71p5ajSXLu...</td>\n",
       "      <td>978900</td>\n",
       "      <td>item_weight</td>\n",
       "      <td>54.0 gram</td>\n",
       "    </tr>\n",
       "    <tr>\n",
       "      <th>4</th>\n",
       "      <td>65670</td>\n",
       "      <td>https://m.media-amazon.com/images/I/81JfAaZbpv...</td>\n",
       "      <td>731432</td>\n",
       "      <td>item_weight</td>\n",
       "      <td>300.0 gram</td>\n",
       "    </tr>\n",
       "  </tbody>\n",
       "</table>\n",
       "</div>"
      ],
      "text/plain": [
       "   Unnamed: 0                                         image_link  group_id  \\\n",
       "0       56011  https://m.media-amazon.com/images/I/81Zj22Ls67...    308856   \n",
       "1       54552  https://m.media-amazon.com/images/I/71L5fItQsf...    709627   \n",
       "2       15224  https://m.media-amazon.com/images/I/61oJja5LYy...    489118   \n",
       "3      119595  https://m.media-amazon.com/images/I/71p5ajSXLu...    978900   \n",
       "4       65670  https://m.media-amazon.com/images/I/81JfAaZbpv...    731432   \n",
       "\n",
       "   entity_name   entity_value  \n",
       "0  item_weight     3 kilogram  \n",
       "1  item_weight      14.4 gram  \n",
       "2  item_weight  1.04 kilogram  \n",
       "3  item_weight      54.0 gram  \n",
       "4  item_weight     300.0 gram  "
      ]
     },
     "execution_count": 4,
     "metadata": {},
     "output_type": "execute_result"
    }
   ],
   "source": [
    "dataframe.head()"
   ]
  },
  {
   "cell_type": "code",
   "execution_count": 6,
   "id": "24e982c43715377",
   "metadata": {
    "ExecuteTime": {
     "end_time": "2024-09-13T21:43:23.660442Z",
     "start_time": "2024-09-13T21:43:23.121256Z"
    }
   },
   "outputs": [
    {
     "ename": "ModuleNotFoundError",
     "evalue": "No module named 'pytesseract'",
     "output_type": "error",
     "traceback": [
      "\u001b[0;31m---------------------------------------------------------------------------\u001b[0m",
      "\u001b[0;31mModuleNotFoundError\u001b[0m                       Traceback (most recent call last)",
      "Cell \u001b[0;32mIn[6], line 2\u001b[0m\n\u001b[1;32m      1\u001b[0m \u001b[38;5;28;01mfrom\u001b[39;00m \u001b[38;5;21;01mPIL\u001b[39;00m \u001b[38;5;28;01mimport\u001b[39;00m Image\n\u001b[0;32m----> 2\u001b[0m \u001b[38;5;28;01mimport\u001b[39;00m \u001b[38;5;21;01mpytesseract\u001b[39;00m\n\u001b[1;32m      3\u001b[0m pytesseract\u001b[38;5;241m.\u001b[39mpytesseract\u001b[38;5;241m.\u001b[39mtesseract_cmd \u001b[38;5;241m=\u001b[39m \u001b[38;5;124m'\u001b[39m\u001b[38;5;124mC:\u001b[39m\u001b[38;5;130;01m\\\\\u001b[39;00m\u001b[38;5;124mProgram Files\u001b[39m\u001b[38;5;130;01m\\\\\u001b[39;00m\u001b[38;5;124mTesseract-OCR\u001b[39m\u001b[38;5;130;01m\\\\\u001b[39;00m\u001b[38;5;124mtesseract.exe\u001b[39m\u001b[38;5;124m'\u001b[39m\n\u001b[1;32m      5\u001b[0m \u001b[38;5;28;01mdef\u001b[39;00m \u001b[38;5;21mperform_ocr\u001b[39m(image_path):\n\u001b[1;32m      6\u001b[0m     \u001b[38;5;66;03m# Open the image using PIL\u001b[39;00m\n",
      "\u001b[0;31mModuleNotFoundError\u001b[0m: No module named 'pytesseract'"
     ]
    }
   ],
   "source": [
    "from PIL import Image\n",
    "import pytesseract\n",
    "pytesseract.pytesseract.tesseract_cmd = 'C:\\\\Program Files\\\\Tesseract-OCR\\\\tesseract.exe'\n",
    "\n",
    "def perform_ocr(image_path):\n",
    "    # Open the image using PIL\n",
    "    image = Image.open(image_path)\n",
    "    \n",
    "    # Perform OCR on the image using Tesseract\n",
    "    text = pytesseract.image_to_string(image)\n",
    "    \n",
    "    return text\n",
    "\n",
    "# Example usage:\n",
    "image_paths = [\"student_resource 3\\\\images\\\\61BZ4zrjZXL.jpg\"]  # Add your image file paths here\n",
    "\n",
    "for path in image_paths:\n",
    "    print(f\"OCR result for {path}:\")\n",
    "    print(perform_ocr(path))\n",
    "    print(\"-\" * 50)\n"
   ]
  },
  {
   "cell_type": "code",
   "execution_count": null,
   "id": "e0d4c687bd9169f",
   "metadata": {},
   "outputs": [],
   "source": []
  }
 ],
 "metadata": {
  "kernelspec": {
   "display_name": "Python 3",
   "language": "python",
   "name": "python3"
  },
  "language_info": {
   "codemirror_mode": {
    "name": "ipython",
    "version": 3
   },
   "file_extension": ".py",
   "mimetype": "text/x-python",
   "name": "python",
   "nbconvert_exporter": "python",
   "pygments_lexer": "ipython3",
   "version": "3.12.4"
  }
 },
 "nbformat": 4,
 "nbformat_minor": 5
}
