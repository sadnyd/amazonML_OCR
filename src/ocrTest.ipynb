{
 "cells": [
  {
   "cell_type": "code",
   "id": "initial_id",
   "metadata": {
    "collapsed": true,
    "ExecuteTime": {
     "end_time": "2024-09-13T21:42:09.256211500Z",
     "start_time": "2024-09-13T21:13:44.263159Z"
    }
   },
   "source": [
    "import os\n",
    "import pandas as pd"
   ],
   "outputs": [],
   "execution_count": 3
  },
  {
   "metadata": {
    "ExecuteTime": {
     "end_time": "2024-09-13T21:42:09.287445500Z",
     "start_time": "2024-09-13T21:13:45.396662Z"
    }
   },
   "cell_type": "code",
   "source": "dataframe=pd.read_csv('student_resource/dataset/new_dataset.csv')",
   "id": "16bef4697244cdad",
   "outputs": [],
   "execution_count": 4
  },
  {
   "metadata": {
    "ExecuteTime": {
     "end_time": "2024-09-13T21:42:09.287445500Z",
     "start_time": "2024-09-13T21:13:56.069642Z"
    }
   },
   "cell_type": "code",
   "source": "dataframe.head()",
   "id": "e7de0eb64e4faa29",
   "outputs": [
    {
     "data": {
      "text/plain": [
       "   Unnamed: 0                                         image_link  group_id  \\\n",
       "0       56011  https://m.media-amazon.com/images/I/81Zj22Ls67...    308856   \n",
       "1       54552  https://m.media-amazon.com/images/I/71L5fItQsf...    709627   \n",
       "2       15224  https://m.media-amazon.com/images/I/61oJja5LYy...    489118   \n",
       "3      119595  https://m.media-amazon.com/images/I/71p5ajSXLu...    978900   \n",
       "4       65670  https://m.media-amazon.com/images/I/81JfAaZbpv...    731432   \n",
       "\n",
       "   entity_name   entity_value  \n",
       "0  item_weight     3 kilogram  \n",
       "1  item_weight      14.4 gram  \n",
       "2  item_weight  1.04 kilogram  \n",
       "3  item_weight      54.0 gram  \n",
       "4  item_weight     300.0 gram  "
      ],
      "text/html": [
       "<div>\n",
       "<style scoped>\n",
       "    .dataframe tbody tr th:only-of-type {\n",
       "        vertical-align: middle;\n",
       "    }\n",
       "\n",
       "    .dataframe tbody tr th {\n",
       "        vertical-align: top;\n",
       "    }\n",
       "\n",
       "    .dataframe thead th {\n",
       "        text-align: right;\n",
       "    }\n",
       "</style>\n",
       "<table border=\"1\" class=\"dataframe\">\n",
       "  <thead>\n",
       "    <tr style=\"text-align: right;\">\n",
       "      <th></th>\n",
       "      <th>Unnamed: 0</th>\n",
       "      <th>image_link</th>\n",
       "      <th>group_id</th>\n",
       "      <th>entity_name</th>\n",
       "      <th>entity_value</th>\n",
       "    </tr>\n",
       "  </thead>\n",
       "  <tbody>\n",
       "    <tr>\n",
       "      <th>0</th>\n",
       "      <td>56011</td>\n",
       "      <td>https://m.media-amazon.com/images/I/81Zj22Ls67...</td>\n",
       "      <td>308856</td>\n",
       "      <td>item_weight</td>\n",
       "      <td>3 kilogram</td>\n",
       "    </tr>\n",
       "    <tr>\n",
       "      <th>1</th>\n",
       "      <td>54552</td>\n",
       "      <td>https://m.media-amazon.com/images/I/71L5fItQsf...</td>\n",
       "      <td>709627</td>\n",
       "      <td>item_weight</td>\n",
       "      <td>14.4 gram</td>\n",
       "    </tr>\n",
       "    <tr>\n",
       "      <th>2</th>\n",
       "      <td>15224</td>\n",
       "      <td>https://m.media-amazon.com/images/I/61oJja5LYy...</td>\n",
       "      <td>489118</td>\n",
       "      <td>item_weight</td>\n",
       "      <td>1.04 kilogram</td>\n",
       "    </tr>\n",
       "    <tr>\n",
       "      <th>3</th>\n",
       "      <td>119595</td>\n",
       "      <td>https://m.media-amazon.com/images/I/71p5ajSXLu...</td>\n",
       "      <td>978900</td>\n",
       "      <td>item_weight</td>\n",
       "      <td>54.0 gram</td>\n",
       "    </tr>\n",
       "    <tr>\n",
       "      <th>4</th>\n",
       "      <td>65670</td>\n",
       "      <td>https://m.media-amazon.com/images/I/81JfAaZbpv...</td>\n",
       "      <td>731432</td>\n",
       "      <td>item_weight</td>\n",
       "      <td>300.0 gram</td>\n",
       "    </tr>\n",
       "  </tbody>\n",
       "</table>\n",
       "</div>"
      ]
     },
     "execution_count": 5,
     "metadata": {},
     "output_type": "execute_result"
    }
   ],
   "execution_count": 5
  },
  {
   "metadata": {
    "ExecuteTime": {
     "end_time": "2024-09-13T21:43:23.660442Z",
     "start_time": "2024-09-13T21:43:23.121256Z"
    }
   },
   "cell_type": "code",
   "source": [
    "from PIL import Image\n",
    "import pytesseract\n",
    "pytesseract.pytesseract.tesseract_cmd = 'C:\\\\Program Files\\\\Tesseract-OCR\\\\tesseract.exe'\n",
    "\n",
    "def perform_ocr(image_path):\n",
    "    # Open the image using PIL\n",
    "    image = Image.open(image_path)\n",
    "    \n",
    "    # Perform OCR on the image using Tesseract\n",
    "    text = pytesseract.image_to_string(image)\n",
    "    \n",
    "    return text\n",
    "\n",
    "# Example usage:\n",
    "image_paths = [\"student_resource 3\\\\images\\\\61BZ4zrjZXL.jpg\"]  # Add your image file paths here\n",
    "\n",
    "for path in image_paths:\n",
    "    print(f\"OCR result for {path}:\")\n",
    "    print(perform_ocr(path))\n",
    "    print(\"-\" * 50)\n"
   ],
   "id": "24e982c43715377",
   "outputs": [
    {
     "name": "stdout",
     "output_type": "stream",
     "text": [
      "OCR result for student_resource 3\\images\\61BZ4zrjZXL.jpg:\n",
      "Serving Size: 1 Tablet (0.709 g) | Each serving contains (Approx. Values):\n",
      "\n",
      "Ingredient Oty. / Serving\n",
      "\n",
      "*PHOSPHOcomplex® Silybin (Sillybum marianum) 200 mg\n",
      "Dandelion (Taraxacum officinale) leaf extract - 10:1 100 mg\n",
      "Kutki (Picrorhiza kurroa)rhizome extract - 0.5% Bitters 50 mg\n",
      "Kasani (Cichorium intybus) seed extract - 1% Bitters 25 mg\n",
      "Punarnava (Boerhavia diffusa) root extract - 0.07% alkaloids 25 mg\n",
      "Bhui amla (Phyllanthus amarus) WP extract - 0.5% Bitters 25 mg\n",
      "Amla (Phyllanthus emblica) fruit extract - 10% Tannins 25 mg\n",
      "Licorice (Glycyrrhiza glabra) root extract - 5% Glycyrrhizin 25 mg\n",
      "Vitamin E 10 mg\n",
      "Piper nigrum fruit extract — 95% Piperine 5mg\n",
      "\n",
      "Nutrients Qty. / Serving\n",
      "\n",
      "Energy 3.04 kcal\n",
      "Carbohydrate 051g\n",
      "(Sugars) 02g\n",
      "Protein 0.049\n",
      "Fat 0.09 g\n",
      "\n",
      "\"ZRDA values established as per ICMR 2010 for sedentary lifestyle-Men.\n",
      "**Z RDA not established by ICMR\n",
      "\n",
      "\n",
      "--------------------------------------------------\n"
     ]
    }
   ],
   "execution_count": 3
  },
  {
   "metadata": {},
   "cell_type": "code",
   "outputs": [],
   "execution_count": null,
   "source": "",
   "id": "e0d4c687bd9169f"
  }
 ],
 "metadata": {
  "kernelspec": {
   "display_name": "Python 3",
   "language": "python",
   "name": "python3"
  },
  "language_info": {
   "codemirror_mode": {
    "name": "ipython",
    "version": 2
   },
   "file_extension": ".py",
   "mimetype": "text/x-python",
   "name": "python",
   "nbconvert_exporter": "python",
   "pygments_lexer": "ipython2",
   "version": "2.7.6"
  }
 },
 "nbformat": 4,
 "nbformat_minor": 5
}
