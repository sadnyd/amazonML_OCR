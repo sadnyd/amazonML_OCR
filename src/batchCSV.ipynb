{
 "cells": [
  {
   "cell_type": "code",
   "execution_count": 1,
   "metadata": {},
   "outputs": [
    {
     "name": "stdout",
     "output_type": "stream",
     "text": [
      "CSV file successfully divided into 10 parts and saved in separate folders.\n"
     ]
    }
   ],
   "source": [
    "import pandas as pd\n",
    "import os\n",
    "\n",
    "# Load the original CSV file\n",
    "original_csv_path = '../dataset/test.csv'\n",
    "df = pd.read_csv(original_csv_path)\n",
    "\n",
    "# Calculate the size of each part\n",
    "num_parts = 10\n",
    "part_size = len(df) // num_parts\n",
    "\n",
    "# Base directory to save the folders\n",
    "base_dir = '../dataset/parts'\n",
    "\n",
    "# Split the dataframe and save each part in a separate folder\n",
    "for i in range(num_parts):\n",
    "    # Determine the start and end indices for this part\n",
    "    start_idx = i * part_size\n",
    "    end_idx = (i + 1) * part_size if i < num_parts - 1 else len(df)\n",
    "    \n",
    "    # Extract the part\n",
    "    df_part = df.iloc[start_idx:end_idx]\n",
    "    \n",
    "    # Create a new folder for each part\n",
    "    folder_path = os.path.join(base_dir, f'part_{i+1}')\n",
    "    os.makedirs(folder_path, exist_ok=True)\n",
    "    \n",
    "    # Save the part to a new CSV file inside the folder\n",
    "    output_csv_path = os.path.join(folder_path, 'data.csv')\n",
    "    df_part.to_csv(output_csv_path, index=False)\n",
    "\n",
    "print(\"CSV file successfully divided into 10 parts and saved in separate folders.\")\n"
   ]
  },
  {
   "cell_type": "code",
   "execution_count": null,
   "metadata": {},
   "outputs": [],
   "source": []
  }
 ],
 "metadata": {
  "kernelspec": {
   "display_name": "Python 3",
   "language": "python",
   "name": "python3"
  },
  "language_info": {
   "codemirror_mode": {
    "name": "ipython",
    "version": 3
   },
   "file_extension": ".py",
   "mimetype": "text/x-python",
   "name": "python",
   "nbconvert_exporter": "python",
   "pygments_lexer": "ipython3",
   "version": "3.8.10"
  }
 },
 "nbformat": 4,
 "nbformat_minor": 2
}
