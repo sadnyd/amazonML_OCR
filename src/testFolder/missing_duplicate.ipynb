{
 "cells": [
  {
   "cell_type": "code",
   "execution_count": 7,
   "metadata": {},
   "outputs": [
    {
     "name": "stdout",
     "output_type": "stream",
     "text": [
      "DataFrame with unique 'index' values and missing indexes filled:\n",
      "       index                                         image_link group_id  \\\n",
      "0      39398  https://m.media-amazon.com/images/I/51KPYVZtFh...   373107   \n",
      "1      39399  https://m.media-amazon.com/images/I/51KPaJLHzj...   417434   \n",
      "2      39400  https://m.media-amazon.com/images/I/51KPbIUn2B...   916768   \n",
      "3      39401  https://m.media-amazon.com/images/I/51KPg7dtyO...   931856   \n",
      "4      39402  https://m.media-amazon.com/images/I/51KPg7dtyO...   931856   \n",
      "...      ...                                                ...      ...   \n",
      "13095  52514  https://m.media-amazon.com/images/I/51YjQTRlr0...   296366   \n",
      "13096  52515  https://m.media-amazon.com/images/I/51YjTBpT98...   436746   \n",
      "13097  52516  https://m.media-amazon.com/images/I/51YjTBpT98...   436746   \n",
      "13098  52517  https://m.media-amazon.com/images/I/51YjWArvhz...   667819   \n",
      "13099  52518  https://m.media-amazon.com/images/I/51YjX5pP6v...   866516   \n",
      "\n",
      "      entity_name                                 pytesseract_output  \\\n",
      "0           width                    Eyelet#10\\n\\n5mm\\n\\n \\n\\n9mm\\n\f   \n",
      "1          height                                                  \f   \n",
      "2          height                          \\n \\n \\n\\nUIZO OL/WILZ\\n\f   \n",
      "3           width                            4.8cm\\n\\n \\n\\n4.8 cm\\n\f   \n",
      "4           depth                            4.8cm\\n\\n \\n\\n4.8 cm\\n\f   \n",
      "...           ...                                                ...   \n",
      "13095       width  STECKER DIMENSIONEN\\n\\n240 mm\\n\\nWwW 1ZI\\n\\n  ...   \n",
      "13096       depth          17.7 in / 45 cm\\n\\n \\n\\n9.8 in / 25 cm\\n\f   \n",
      "13097       width          17.7 in / 45 cm\\n\\n \\n\\n9.8 in / 25 cm\\n\f   \n",
      "13098       depth  v\\n4\\n\\n€\\n3)\\n\\nADULT\\n\\n2 1 CENTER 1 2 3\\n\\n...   \n",
      "13099       depth                                           \\n\\n \\n\f   \n",
      "\n",
      "                                          extracted_data  \\\n",
      "0      [['10', '', 'elet#'], ['5', 'mm', ''], ['9', '...   \n",
      "1                                                     []   \n",
      "2                                                     []   \n",
      "3                [['4.8', 'cm', ''], ['4.8', ' cm', '']]   \n",
      "4                [['4.8', 'cm', ''], ['4.8', ' cm', '']]   \n",
      "...                                                  ...   \n",
      "13095  [['240', ' mm', ''], ['1', 'ZI', 'WwW '], ['23...   \n",
      "13096  [['17.7', ' in /', ''], ['45', ' cm', 'in / ']...   \n",
      "13097  [['17.7', ' in /', ''], ['45', ' cm', 'in / ']...   \n",
      "13098  [['4', '', ''], ['3', ')', ''], ['2', ' 1 CE',...   \n",
      "13099                                                 []   \n",
      "\n",
      "                                              valid_data  \n",
      "0             [['5', 'millimeter'], ['9', 'millimeter']]  \n",
      "1                                                     []  \n",
      "2                                                     []  \n",
      "3         [['4.8', 'centimeter'], ['4.8', 'centimeter']]  \n",
      "4         [['4.8', 'centimeter'], ['4.8', 'centimeter']]  \n",
      "...                                                  ...  \n",
      "13095     [['240', 'millimeter'], ['238', 'millimeter']]  \n",
      "13096  [['17.7', 'inch'], ['45', 'centimeter'], ['9.8...  \n",
      "13097  [['17.7', 'inch'], ['45', 'centimeter'], ['9.8...  \n",
      "13098  [['1', 'centimeter'], ['4', 'centimeter'], ['1...  \n",
      "13099                                                 []  \n",
      "\n",
      "[13121 rows x 7 columns]\n"
     ]
    }
   ],
   "source": [
    "import pandas as pd\n",
    "\n",
    "# Load the data\n",
    "df = pd.read_csv('valid_data.csv')\n",
    "\n",
    "# Step 1: Remove duplicate 'index' values, keeping the first occurrence\n",
    "df_unique = df.drop_duplicates(subset='index', keep='first')\n",
    "\n",
    "# Sort by the 'index' column\n",
    "df_unique = df_unique.sort_values(by='index')\n",
    "\n",
    "# Get the minimum and maximum of the 'index' column\n",
    "min_index = df_unique['index'].min()\n",
    "max_index = df_unique['index'].max()\n",
    "expected_indexes = range(min_index, max_index + 1)  # Create a range from min to max 'index'\n",
    "\n",
    "# Step 2: Find the missing 'index' values\n",
    "missing_indexes = pd.Index(expected_indexes).difference(df_unique['index'])\n",
    "\n",
    "# Step 3: Create a DataFrame for missing 'index' values\n",
    "# If you want to keep the structure of the original DataFrame, use NaN for the missing rows\n",
    "df_missing = pd.DataFrame({'index': missing_indexes})\n",
    "\n",
    "# Add NaN columns to match the structure of the original DataFrame (excluding the 'index' column)\n",
    "for col in df.columns.difference(['index']):\n",
    "    df_missing[col] = pd.NA\n",
    "\n",
    "# Concatenate the unique and missing DataFrames\n",
    "df_result = pd.concat([df_unique, df_missing], ignore_index=True)\n",
    "\n",
    "# Sort the result DataFrame by the 'index' column again\n",
    "df_result = df_result.sort_values(by='index')\n",
    "\n",
    "# Output results\n",
    "print(\"DataFrame with unique 'index' values and missing indexes filled:\")\n",
    "print(df_result)\n"
   ]
  },
  {
   "cell_type": "code",
   "execution_count": 8,
   "metadata": {},
   "outputs": [],
   "source": [
    "df_result.to_csv('uniqueSorted.csv')"
   ]
  },
  {
   "cell_type": "code",
   "execution_count": 9,
   "metadata": {},
   "outputs": [
    {
     "name": "stdout",
     "output_type": "stream",
     "text": [
      "<class 'pandas.core.frame.DataFrame'>\n",
      "RangeIndex: 21 entries, 0 to 20\n",
      "Data columns (total 7 columns):\n",
      " #   Column              Non-Null Count  Dtype \n",
      "---  ------              --------------  ----- \n",
      " 0   index               21 non-null     int64 \n",
      " 1   entity_name         0 non-null      object\n",
      " 2   extracted_data      0 non-null      object\n",
      " 3   group_id            0 non-null      object\n",
      " 4   image_link          0 non-null      object\n",
      " 5   pytesseract_output  0 non-null      object\n",
      " 6   valid_data          0 non-null      object\n",
      "dtypes: int64(1), object(6)\n",
      "memory usage: 1.3+ KB\n"
     ]
    }
   ],
   "source": [
    "df_missing.info()"
   ]
  },
  {
   "cell_type": "code",
   "execution_count": null,
   "metadata": {},
   "outputs": [],
   "source": []
  }
 ],
 "metadata": {
  "kernelspec": {
   "display_name": "Python 3",
   "language": "python",
   "name": "python3"
  },
  "language_info": {
   "codemirror_mode": {
    "name": "ipython",
    "version": 3
   },
   "file_extension": ".py",
   "mimetype": "text/x-python",
   "name": "python",
   "nbconvert_exporter": "python",
   "pygments_lexer": "ipython3",
   "version": "3.8.10"
  }
 },
 "nbformat": 4,
 "nbformat_minor": 2
}
