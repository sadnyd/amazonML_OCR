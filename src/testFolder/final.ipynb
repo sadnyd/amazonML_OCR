{
 "cells": [
  {
   "cell_type": "code",
   "execution_count": 17,
   "metadata": {},
   "outputs": [],
   "source": [
    "import pandas as pd\n",
    "import ast\n",
    "\n",
    "# Load your CSV file\n",
    "df = pd.read_csv('missing_corrected.csv')\n",
    "\n",
    "# Function to process the valid_data column\n",
    "def format_standard(value):\n",
    "    try:\n",
    "        array = ast.literal_eval(value)\n",
    "        # Check if the array is not empty and has at least one element\n",
    "        if array and isinstance(array, list) and len(array) > 0:\n",
    "            first_value = array[0][0]\n",
    "            second_value = array[0][1]\n",
    "            \n",
    "            # Handle the case where first_value contains a dash\n",
    "            if '-' in first_value:\n",
    "                parts = first_value.split('-')\n",
    "                if len(parts) == 2:\n",
    "                    first_value = parts[1]\n",
    "            \n",
    "\n",
    "            # Remove the decimal point if there is no integer part after it\n",
    "            if '.' in first_value:\n",
    "                parts = first_value.split('.')\n",
    "                if len(parts) > 1 and not parts[1].isdigit():\n",
    "                    first_value = parts[0]\n",
    "                elif len(parts) > 1 and parts[1] == '':\n",
    "                    first_value = parts[0]\n",
    "            \n",
    "            return f\"{first_value} {second_value}\"\n",
    "    except (ValueError, SyntaxError):\n",
    "        # Handle cases where literal_eval fails\n",
    "        pass\n",
    "    return ''\n",
    "\n",
    "# Apply the function to create the new column\n",
    "df['prediction'] = df['valid_data'].apply(format_standard)\n",
    "\n",
    "df = df[['prediction']].copy()\n",
    "\n",
    "# Reset the index to make it a column and rename it to 'index'\n",
    "df.reset_index(inplace=True)\n",
    "df.rename(columns={'index': 'index'}, inplace=True)\n",
    "\n",
    "# Save the updated DataFrame to a new CSV file\n",
    "df.to_csv('final.csv', index=False)\n"
   ]
  },
  {
   "cell_type": "code",
   "execution_count": null,
   "metadata": {},
   "outputs": [],
   "source": []
  }
 ],
 "metadata": {
  "kernelspec": {
   "display_name": "Python 3",
   "language": "python",
   "name": "python3"
  },
  "language_info": {
   "codemirror_mode": {
    "name": "ipython",
    "version": 3
   },
   "file_extension": ".py",
   "mimetype": "text/x-python",
   "name": "python",
   "nbconvert_exporter": "python",
   "pygments_lexer": "ipython3",
   "version": "3.8.10"
  }
 },
 "nbformat": 4,
 "nbformat_minor": 2
}
