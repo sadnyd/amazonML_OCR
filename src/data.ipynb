{
 "cells": [
  {
   "cell_type": "code",
   "id": "initial_id",
   "metadata": {
    "collapsed": true,
    "ExecuteTime": {
     "end_time": "2024-09-13T16:26:08.360846Z",
     "start_time": "2024-09-13T16:26:07.902846Z"
    }
   },
   "source": [
    "import os\n",
    "import pandas as pd"
   ],
   "outputs": [],
   "execution_count": 1
  },
  {
   "metadata": {
    "ExecuteTime": {
     "end_time": "2024-09-13T16:27:28.658743Z",
     "start_time": "2024-09-13T16:27:28.355467Z"
    }
   },
   "cell_type": "code",
   "source": [
    "DATASET_FOLDER = 'student_resource 3/dataset/'\n",
    "train = pd.read_csv(os.path.join(DATASET_FOLDER, 'train.csv'))"
   ],
   "id": "a9db6b870de0ae35",
   "outputs": [],
   "execution_count": 5
  },
  {
   "metadata": {
    "ExecuteTime": {
     "end_time": "2024-09-13T16:27:33.585821Z",
     "start_time": "2024-09-13T16:27:33.573918Z"
    }
   },
   "cell_type": "code",
   "source": "train.head()",
   "id": "447426ee03db7380",
   "outputs": [
    {
     "data": {
      "text/plain": [
       "                                          image_link  group_id  entity_name  \\\n",
       "0  https://m.media-amazon.com/images/I/61I9XdN6OF...    748919  item_weight   \n",
       "1  https://m.media-amazon.com/images/I/71gSRbyXmo...    916768  item_volume   \n",
       "2  https://m.media-amazon.com/images/I/61BZ4zrjZX...    459516  item_weight   \n",
       "3  https://m.media-amazon.com/images/I/612mrlqiI4...    459516  item_weight   \n",
       "4  https://m.media-amazon.com/images/I/617Tl40LOX...    731432  item_weight   \n",
       "\n",
       "     entity_value  \n",
       "0      500.0 gram  \n",
       "1         1.0 cup  \n",
       "2      0.709 gram  \n",
       "3      0.709 gram  \n",
       "4  1400 milligram  "
      ],
      "text/html": [
       "<div>\n",
       "<style scoped>\n",
       "    .dataframe tbody tr th:only-of-type {\n",
       "        vertical-align: middle;\n",
       "    }\n",
       "\n",
       "    .dataframe tbody tr th {\n",
       "        vertical-align: top;\n",
       "    }\n",
       "\n",
       "    .dataframe thead th {\n",
       "        text-align: right;\n",
       "    }\n",
       "</style>\n",
       "<table border=\"1\" class=\"dataframe\">\n",
       "  <thead>\n",
       "    <tr style=\"text-align: right;\">\n",
       "      <th></th>\n",
       "      <th>image_link</th>\n",
       "      <th>group_id</th>\n",
       "      <th>entity_name</th>\n",
       "      <th>entity_value</th>\n",
       "    </tr>\n",
       "  </thead>\n",
       "  <tbody>\n",
       "    <tr>\n",
       "      <th>0</th>\n",
       "      <td>https://m.media-amazon.com/images/I/61I9XdN6OF...</td>\n",
       "      <td>748919</td>\n",
       "      <td>item_weight</td>\n",
       "      <td>500.0 gram</td>\n",
       "    </tr>\n",
       "    <tr>\n",
       "      <th>1</th>\n",
       "      <td>https://m.media-amazon.com/images/I/71gSRbyXmo...</td>\n",
       "      <td>916768</td>\n",
       "      <td>item_volume</td>\n",
       "      <td>1.0 cup</td>\n",
       "    </tr>\n",
       "    <tr>\n",
       "      <th>2</th>\n",
       "      <td>https://m.media-amazon.com/images/I/61BZ4zrjZX...</td>\n",
       "      <td>459516</td>\n",
       "      <td>item_weight</td>\n",
       "      <td>0.709 gram</td>\n",
       "    </tr>\n",
       "    <tr>\n",
       "      <th>3</th>\n",
       "      <td>https://m.media-amazon.com/images/I/612mrlqiI4...</td>\n",
       "      <td>459516</td>\n",
       "      <td>item_weight</td>\n",
       "      <td>0.709 gram</td>\n",
       "    </tr>\n",
       "    <tr>\n",
       "      <th>4</th>\n",
       "      <td>https://m.media-amazon.com/images/I/617Tl40LOX...</td>\n",
       "      <td>731432</td>\n",
       "      <td>item_weight</td>\n",
       "      <td>1400 milligram</td>\n",
       "    </tr>\n",
       "  </tbody>\n",
       "</table>\n",
       "</div>"
      ]
     },
     "execution_count": 6,
     "metadata": {},
     "output_type": "execute_result"
    }
   ],
   "execution_count": 6
  },
  {
   "metadata": {
    "ExecuteTime": {
     "end_time": "2024-09-13T16:29:50.762662Z",
     "start_time": "2024-09-13T16:29:50.723942Z"
    }
   },
   "cell_type": "code",
   "source": "train.info()",
   "id": "5d8baff7c2f10889",
   "outputs": [
    {
     "name": "stdout",
     "output_type": "stream",
     "text": [
      "<class 'pandas.core.frame.DataFrame'>\n",
      "RangeIndex: 263859 entries, 0 to 263858\n",
      "Data columns (total 4 columns):\n",
      " #   Column        Non-Null Count   Dtype \n",
      "---  ------        --------------   ----- \n",
      " 0   image_link    263859 non-null  object\n",
      " 1   group_id      263859 non-null  int64 \n",
      " 2   entity_name   263859 non-null  object\n",
      " 3   entity_value  263859 non-null  object\n",
      "dtypes: int64(1), object(3)\n",
      "memory usage: 8.1+ MB\n"
     ]
    }
   ],
   "execution_count": 7
  },
  {
   "metadata": {
    "ExecuteTime": {
     "end_time": "2024-09-13T16:31:59.493136Z",
     "start_time": "2024-09-13T16:31:59.473937Z"
    }
   },
   "cell_type": "code",
   "source": "train['entity_name'].unique()",
   "id": "33f96ceac557e04",
   "outputs": [
    {
     "data": {
      "text/plain": [
       "array(['item_weight', 'item_volume', 'voltage', 'wattage',\n",
       "       'maximum_weight_recommendation', 'height', 'depth', 'width'],\n",
       "      dtype=object)"
      ]
     },
     "execution_count": 9,
     "metadata": {},
     "output_type": "execute_result"
    }
   ],
   "execution_count": 9
  },
  {
   "metadata": {
    "ExecuteTime": {
     "end_time": "2024-09-13T21:07:03.024570Z",
     "start_time": "2024-09-13T21:07:02.716352Z"
    }
   },
   "cell_type": "code",
   "source": [
    "new_df = pd.DataFrame()  # new dataframe for testing and selecting one form different ocr models \n",
    "for value in train['entity_name'].unique():\n",
    "    subset = train[train['entity_name'] == value]\n",
    "    sample = subset.sample(n=20, replace=False)#each unique value in entity_name will have 20 datapoints \n",
    "    new_df = pd.concat([new_df, sample])"
   ],
   "id": "3470593cac0ba617",
   "outputs": [],
   "execution_count": 10
  },
  {
   "metadata": {
    "ExecuteTime": {
     "end_time": "2024-09-13T21:07:11.947259Z",
     "start_time": "2024-09-13T21:07:11.926095Z"
    }
   },
   "cell_type": "code",
   "source": "new_df",
   "id": "fbfe19373ea361ca",
   "outputs": [
    {
     "data": {
      "text/plain": [
       "                                               image_link  group_id  \\\n",
       "56011   https://m.media-amazon.com/images/I/81Zj22Ls67...    308856   \n",
       "54552   https://m.media-amazon.com/images/I/71L5fItQsf...    709627   \n",
       "15224   https://m.media-amazon.com/images/I/61oJja5LYy...    489118   \n",
       "119595  https://m.media-amazon.com/images/I/71p5ajSXLu...    978900   \n",
       "65670   https://m.media-amazon.com/images/I/81JfAaZbpv...    731432   \n",
       "...                                                   ...       ...   \n",
       "171953  https://m.media-amazon.com/images/I/615B+tQ5nC...    311997   \n",
       "134270  https://m.media-amazon.com/images/I/611hYlSzSH...    470067   \n",
       "173843  https://m.media-amazon.com/images/I/613rJ51sm6...    594224   \n",
       "151251  https://m.media-amazon.com/images/I/61ElVUv88x...    931247   \n",
       "172081  https://m.media-amazon.com/images/I/51-fcOvwJM...    793731   \n",
       "\n",
       "        entity_name     entity_value  \n",
       "56011   item_weight       3 kilogram  \n",
       "54552   item_weight        14.4 gram  \n",
       "15224   item_weight    1.04 kilogram  \n",
       "119595  item_weight        54.0 gram  \n",
       "65670   item_weight       300.0 gram  \n",
       "...             ...              ...  \n",
       "171953        width  70.0 centimetre  \n",
       "134270        width   4.7 centimetre  \n",
       "173843        width  22.0 centimetre  \n",
       "151251        width  85.0 centimetre  \n",
       "172081        width        1.96 inch  \n",
       "\n",
       "[160 rows x 4 columns]"
      ],
      "text/html": [
       "<div>\n",
       "<style scoped>\n",
       "    .dataframe tbody tr th:only-of-type {\n",
       "        vertical-align: middle;\n",
       "    }\n",
       "\n",
       "    .dataframe tbody tr th {\n",
       "        vertical-align: top;\n",
       "    }\n",
       "\n",
       "    .dataframe thead th {\n",
       "        text-align: right;\n",
       "    }\n",
       "</style>\n",
       "<table border=\"1\" class=\"dataframe\">\n",
       "  <thead>\n",
       "    <tr style=\"text-align: right;\">\n",
       "      <th></th>\n",
       "      <th>image_link</th>\n",
       "      <th>group_id</th>\n",
       "      <th>entity_name</th>\n",
       "      <th>entity_value</th>\n",
       "    </tr>\n",
       "  </thead>\n",
       "  <tbody>\n",
       "    <tr>\n",
       "      <th>56011</th>\n",
       "      <td>https://m.media-amazon.com/images/I/81Zj22Ls67...</td>\n",
       "      <td>308856</td>\n",
       "      <td>item_weight</td>\n",
       "      <td>3 kilogram</td>\n",
       "    </tr>\n",
       "    <tr>\n",
       "      <th>54552</th>\n",
       "      <td>https://m.media-amazon.com/images/I/71L5fItQsf...</td>\n",
       "      <td>709627</td>\n",
       "      <td>item_weight</td>\n",
       "      <td>14.4 gram</td>\n",
       "    </tr>\n",
       "    <tr>\n",
       "      <th>15224</th>\n",
       "      <td>https://m.media-amazon.com/images/I/61oJja5LYy...</td>\n",
       "      <td>489118</td>\n",
       "      <td>item_weight</td>\n",
       "      <td>1.04 kilogram</td>\n",
       "    </tr>\n",
       "    <tr>\n",
       "      <th>119595</th>\n",
       "      <td>https://m.media-amazon.com/images/I/71p5ajSXLu...</td>\n",
       "      <td>978900</td>\n",
       "      <td>item_weight</td>\n",
       "      <td>54.0 gram</td>\n",
       "    </tr>\n",
       "    <tr>\n",
       "      <th>65670</th>\n",
       "      <td>https://m.media-amazon.com/images/I/81JfAaZbpv...</td>\n",
       "      <td>731432</td>\n",
       "      <td>item_weight</td>\n",
       "      <td>300.0 gram</td>\n",
       "    </tr>\n",
       "    <tr>\n",
       "      <th>...</th>\n",
       "      <td>...</td>\n",
       "      <td>...</td>\n",
       "      <td>...</td>\n",
       "      <td>...</td>\n",
       "    </tr>\n",
       "    <tr>\n",
       "      <th>171953</th>\n",
       "      <td>https://m.media-amazon.com/images/I/615B+tQ5nC...</td>\n",
       "      <td>311997</td>\n",
       "      <td>width</td>\n",
       "      <td>70.0 centimetre</td>\n",
       "    </tr>\n",
       "    <tr>\n",
       "      <th>134270</th>\n",
       "      <td>https://m.media-amazon.com/images/I/611hYlSzSH...</td>\n",
       "      <td>470067</td>\n",
       "      <td>width</td>\n",
       "      <td>4.7 centimetre</td>\n",
       "    </tr>\n",
       "    <tr>\n",
       "      <th>173843</th>\n",
       "      <td>https://m.media-amazon.com/images/I/613rJ51sm6...</td>\n",
       "      <td>594224</td>\n",
       "      <td>width</td>\n",
       "      <td>22.0 centimetre</td>\n",
       "    </tr>\n",
       "    <tr>\n",
       "      <th>151251</th>\n",
       "      <td>https://m.media-amazon.com/images/I/61ElVUv88x...</td>\n",
       "      <td>931247</td>\n",
       "      <td>width</td>\n",
       "      <td>85.0 centimetre</td>\n",
       "    </tr>\n",
       "    <tr>\n",
       "      <th>172081</th>\n",
       "      <td>https://m.media-amazon.com/images/I/51-fcOvwJM...</td>\n",
       "      <td>793731</td>\n",
       "      <td>width</td>\n",
       "      <td>1.96 inch</td>\n",
       "    </tr>\n",
       "  </tbody>\n",
       "</table>\n",
       "<p>160 rows × 4 columns</p>\n",
       "</div>"
      ]
     },
     "execution_count": 11,
     "metadata": {},
     "output_type": "execute_result"
    }
   ],
   "execution_count": 11
  },
  {
   "metadata": {
    "ExecuteTime": {
     "end_time": "2024-09-13T21:11:36.232718Z",
     "start_time": "2024-09-13T21:11:36.223527Z"
    }
   },
   "cell_type": "code",
   "source": "new_df.to_csv('./new_dataset.csv', index=True)#csv file for better usabililty ",
   "id": "590e60660e4add91",
   "outputs": [],
   "execution_count": 15
  },
  {
   "metadata": {
    "ExecuteTime": {
     "end_time": "2024-09-13T21:46:55.807588Z",
     "start_time": "2024-09-13T21:46:55.788096Z"
    }
   },
   "cell_type": "code",
   "source": [
    "from student_resourse.src.utils import download_images\n",
    "download_images(new_df['image_link'], '../images')"
   ],
   "id": "f9127caca89e8b00",
   "outputs": [
    {
     "ename": "ModuleNotFoundError",
     "evalue": "No module named 'student_resourse'",
     "output_type": "error",
     "traceback": [
      "\u001B[1;31m---------------------------------------------------------------------------\u001B[0m",
      "\u001B[1;31mModuleNotFoundError\u001B[0m                       Traceback (most recent call last)",
      "Cell \u001B[1;32mIn[4], line 1\u001B[0m\n\u001B[1;32m----> 1\u001B[0m \u001B[38;5;28;01mfrom\u001B[39;00m \u001B[38;5;21;01mstudent_resourse\u001B[39;00m\u001B[38;5;21;01m.\u001B[39;00m\u001B[38;5;21;01msrc\u001B[39;00m\u001B[38;5;21;01m.\u001B[39;00m\u001B[38;5;21;01mutils\u001B[39;00m \u001B[38;5;28;01mimport\u001B[39;00m download_images\n\u001B[0;32m      2\u001B[0m download_images(new_df[\u001B[38;5;124m'\u001B[39m\u001B[38;5;124mimage_link\u001B[39m\u001B[38;5;124m'\u001B[39m], \u001B[38;5;124m'\u001B[39m\u001B[38;5;124m../images\u001B[39m\u001B[38;5;124m'\u001B[39m)\n",
      "\u001B[1;31mModuleNotFoundError\u001B[0m: No module named 'student_resourse'"
     ]
    }
   ],
   "execution_count": 4
  },
  {
   "metadata": {},
   "cell_type": "code",
   "outputs": [],
   "execution_count": null,
   "source": "",
   "id": "415535e9348ab91c"
  }
 ],
 "metadata": {
  "kernelspec": {
   "display_name": "Python 3",
   "language": "python",
   "name": "python3"
  },
  "language_info": {
   "codemirror_mode": {
    "name": "ipython",
    "version": 2
   },
   "file_extension": ".py",
   "mimetype": "text/x-python",
   "name": "python",
   "nbconvert_exporter": "python",
   "pygments_lexer": "ipython2",
   "version": "2.7.6"
  }
 },
 "nbformat": 4,
 "nbformat_minor": 5
}
