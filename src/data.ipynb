{
 "cells": [
  {
   "cell_type": "code",
   "execution_count": 3,
   "id": "initial_id",
   "metadata": {
    "ExecuteTime": {
     "end_time": "2024-09-13T16:26:08.360846Z",
     "start_time": "2024-09-13T16:26:07.902846Z"
    },
    "collapsed": true
   },
   "outputs": [],
   "source": [
    "import os\n",
    "import pandas as pd"
   ]
  },
  {
   "cell_type": "code",
   "execution_count": 4,
   "id": "a9db6b870de0ae35",
   "metadata": {
    "ExecuteTime": {
     "end_time": "2024-09-13T16:27:28.658743Z",
     "start_time": "2024-09-13T16:27:28.355467Z"
    }
   },
   "outputs": [],
   "source": [
    "DATASET_FOLDER = '../dataset'\n",
    "train = pd.read_csv(os.path.join(DATASET_FOLDER, 'train.csv'))"
   ]
  },
  {
   "cell_type": "code",
   "execution_count": 5,
   "id": "447426ee03db7380",
   "metadata": {
    "ExecuteTime": {
     "end_time": "2024-09-13T16:27:33.585821Z",
     "start_time": "2024-09-13T16:27:33.573918Z"
    }
   },
   "outputs": [
    {
     "data": {
      "text/html": [
       "<div>\n",
       "<style scoped>\n",
       "    .dataframe tbody tr th:only-of-type {\n",
       "        vertical-align: middle;\n",
       "    }\n",
       "\n",
       "    .dataframe tbody tr th {\n",
       "        vertical-align: top;\n",
       "    }\n",
       "\n",
       "    .dataframe thead th {\n",
       "        text-align: right;\n",
       "    }\n",
       "</style>\n",
       "<table border=\"1\" class=\"dataframe\">\n",
       "  <thead>\n",
       "    <tr style=\"text-align: right;\">\n",
       "      <th></th>\n",
       "      <th>image_link</th>\n",
       "      <th>group_id</th>\n",
       "      <th>entity_name</th>\n",
       "      <th>entity_value</th>\n",
       "    </tr>\n",
       "  </thead>\n",
       "  <tbody>\n",
       "    <tr>\n",
       "      <th>0</th>\n",
       "      <td>https://m.media-amazon.com/images/I/61I9XdN6OF...</td>\n",
       "      <td>748919</td>\n",
       "      <td>item_weight</td>\n",
       "      <td>500.0 gram</td>\n",
       "    </tr>\n",
       "    <tr>\n",
       "      <th>1</th>\n",
       "      <td>https://m.media-amazon.com/images/I/71gSRbyXmo...</td>\n",
       "      <td>916768</td>\n",
       "      <td>item_volume</td>\n",
       "      <td>1.0 cup</td>\n",
       "    </tr>\n",
       "    <tr>\n",
       "      <th>2</th>\n",
       "      <td>https://m.media-amazon.com/images/I/61BZ4zrjZX...</td>\n",
       "      <td>459516</td>\n",
       "      <td>item_weight</td>\n",
       "      <td>0.709 gram</td>\n",
       "    </tr>\n",
       "    <tr>\n",
       "      <th>3</th>\n",
       "      <td>https://m.media-amazon.com/images/I/612mrlqiI4...</td>\n",
       "      <td>459516</td>\n",
       "      <td>item_weight</td>\n",
       "      <td>0.709 gram</td>\n",
       "    </tr>\n",
       "    <tr>\n",
       "      <th>4</th>\n",
       "      <td>https://m.media-amazon.com/images/I/617Tl40LOX...</td>\n",
       "      <td>731432</td>\n",
       "      <td>item_weight</td>\n",
       "      <td>1400 milligram</td>\n",
       "    </tr>\n",
       "  </tbody>\n",
       "</table>\n",
       "</div>"
      ],
      "text/plain": [
       "                                          image_link  group_id  entity_name  \\\n",
       "0  https://m.media-amazon.com/images/I/61I9XdN6OF...    748919  item_weight   \n",
       "1  https://m.media-amazon.com/images/I/71gSRbyXmo...    916768  item_volume   \n",
       "2  https://m.media-amazon.com/images/I/61BZ4zrjZX...    459516  item_weight   \n",
       "3  https://m.media-amazon.com/images/I/612mrlqiI4...    459516  item_weight   \n",
       "4  https://m.media-amazon.com/images/I/617Tl40LOX...    731432  item_weight   \n",
       "\n",
       "     entity_value  \n",
       "0      500.0 gram  \n",
       "1         1.0 cup  \n",
       "2      0.709 gram  \n",
       "3      0.709 gram  \n",
       "4  1400 milligram  "
      ]
     },
     "execution_count": 5,
     "metadata": {},
     "output_type": "execute_result"
    }
   ],
   "source": [
    "train.head()"
   ]
  },
  {
   "cell_type": "code",
   "execution_count": 6,
   "id": "5d8baff7c2f10889",
   "metadata": {
    "ExecuteTime": {
     "end_time": "2024-09-13T16:29:50.762662Z",
     "start_time": "2024-09-13T16:29:50.723942Z"
    }
   },
   "outputs": [
    {
     "name": "stdout",
     "output_type": "stream",
     "text": [
      "<class 'pandas.core.frame.DataFrame'>\n",
      "RangeIndex: 263859 entries, 0 to 263858\n",
      "Data columns (total 4 columns):\n",
      " #   Column        Non-Null Count   Dtype \n",
      "---  ------        --------------   ----- \n",
      " 0   image_link    263859 non-null  object\n",
      " 1   group_id      263859 non-null  int64 \n",
      " 2   entity_name   263859 non-null  object\n",
      " 3   entity_value  263859 non-null  object\n",
      "dtypes: int64(1), object(3)\n",
      "memory usage: 8.1+ MB\n"
     ]
    }
   ],
   "source": [
    "train.info()"
   ]
  },
  {
   "cell_type": "code",
   "execution_count": 7,
   "id": "33f96ceac557e04",
   "metadata": {
    "ExecuteTime": {
     "end_time": "2024-09-13T16:31:59.493136Z",
     "start_time": "2024-09-13T16:31:59.473937Z"
    }
   },
   "outputs": [
    {
     "data": {
      "text/plain": [
       "array(['item_weight', 'item_volume', 'voltage', 'wattage',\n",
       "       'maximum_weight_recommendation', 'height', 'depth', 'width'],\n",
       "      dtype=object)"
      ]
     },
     "execution_count": 7,
     "metadata": {},
     "output_type": "execute_result"
    }
   ],
   "source": [
    "train['entity_name'].unique()"
   ]
  },
  {
   "cell_type": "code",
   "execution_count": 8,
   "id": "3470593cac0ba617",
   "metadata": {
    "ExecuteTime": {
     "end_time": "2024-09-13T21:07:03.024570Z",
     "start_time": "2024-09-13T21:07:02.716352Z"
    }
   },
   "outputs": [],
   "source": [
    "new_df = pd.DataFrame()  # new dataframe for testing and selecting one form different ocr models \n",
    "for value in train['entity_name'].unique():\n",
    "    subset = train[train['entity_name'] == value]\n",
    "    sample = subset.sample(n=20, replace=False)#each unique value in entity_name will have 20 datapoints \n",
    "    new_df = pd.concat([new_df, sample])"
   ]
  },
  {
   "cell_type": "code",
   "execution_count": 9,
   "id": "fde0aa60",
   "metadata": {},
   "outputs": [
    {
     "data": {
      "text/html": [
       "<div>\n",
       "<style scoped>\n",
       "    .dataframe tbody tr th:only-of-type {\n",
       "        vertical-align: middle;\n",
       "    }\n",
       "\n",
       "    .dataframe tbody tr th {\n",
       "        vertical-align: top;\n",
       "    }\n",
       "\n",
       "    .dataframe thead th {\n",
       "        text-align: right;\n",
       "    }\n",
       "</style>\n",
       "<table border=\"1\" class=\"dataframe\">\n",
       "  <thead>\n",
       "    <tr style=\"text-align: right;\">\n",
       "      <th></th>\n",
       "      <th>image_link</th>\n",
       "      <th>group_id</th>\n",
       "      <th>entity_name</th>\n",
       "      <th>entity_value</th>\n",
       "    </tr>\n",
       "  </thead>\n",
       "  <tbody>\n",
       "    <tr>\n",
       "      <th>98467</th>\n",
       "      <td>https://m.media-amazon.com/images/I/71c7OUcucT...</td>\n",
       "      <td>529606</td>\n",
       "      <td>item_weight</td>\n",
       "      <td>567 gram</td>\n",
       "    </tr>\n",
       "    <tr>\n",
       "      <th>116348</th>\n",
       "      <td>https://m.media-amazon.com/images/I/81KcClrXxa...</td>\n",
       "      <td>211213</td>\n",
       "      <td>item_weight</td>\n",
       "      <td>1.0 kilogram</td>\n",
       "    </tr>\n",
       "    <tr>\n",
       "      <th>109788</th>\n",
       "      <td>https://m.media-amazon.com/images/I/7194z1Pyex...</td>\n",
       "      <td>297918</td>\n",
       "      <td>item_weight</td>\n",
       "      <td>1.41 ounce</td>\n",
       "    </tr>\n",
       "    <tr>\n",
       "      <th>109254</th>\n",
       "      <td>https://m.media-amazon.com/images/I/51NNyPYohu...</td>\n",
       "      <td>523149</td>\n",
       "      <td>item_weight</td>\n",
       "      <td>2.2 gram</td>\n",
       "    </tr>\n",
       "    <tr>\n",
       "      <th>96686</th>\n",
       "      <td>https://m.media-amazon.com/images/I/51K8zUa5T1...</td>\n",
       "      <td>658003</td>\n",
       "      <td>item_weight</td>\n",
       "      <td>62.0 gram</td>\n",
       "    </tr>\n",
       "  </tbody>\n",
       "</table>\n",
       "</div>"
      ],
      "text/plain": [
       "                                               image_link  group_id  \\\n",
       "98467   https://m.media-amazon.com/images/I/71c7OUcucT...    529606   \n",
       "116348  https://m.media-amazon.com/images/I/81KcClrXxa...    211213   \n",
       "109788  https://m.media-amazon.com/images/I/7194z1Pyex...    297918   \n",
       "109254  https://m.media-amazon.com/images/I/51NNyPYohu...    523149   \n",
       "96686   https://m.media-amazon.com/images/I/51K8zUa5T1...    658003   \n",
       "\n",
       "        entity_name  entity_value  \n",
       "98467   item_weight      567 gram  \n",
       "116348  item_weight  1.0 kilogram  \n",
       "109788  item_weight    1.41 ounce  \n",
       "109254  item_weight      2.2 gram  \n",
       "96686   item_weight     62.0 gram  "
      ]
     },
     "execution_count": 9,
     "metadata": {},
     "output_type": "execute_result"
    }
   ],
   "source": [
    "new_df.head()"
   ]
  },
  {
   "cell_type": "code",
   "execution_count": 10,
   "id": "590e60660e4add91",
   "metadata": {
    "ExecuteTime": {
     "end_time": "2024-09-13T21:11:36.232718Z",
     "start_time": "2024-09-13T21:11:36.223527Z"
    }
   },
   "outputs": [],
   "source": [
    "new_df.to_csv('../dataset/new_dataset.csv', index=True)#csv file for better usabililty "
   ]
  }
 ],
 "metadata": {
  "kernelspec": {
   "display_name": "Python 3",
   "language": "python",
   "name": "python3"
  },
  "language_info": {
   "codemirror_mode": {
    "name": "ipython",
    "version": 3
   },
   "file_extension": ".py",
   "mimetype": "text/x-python",
   "name": "python",
   "nbconvert_exporter": "python",
   "pygments_lexer": "ipython3",
   "version": "3.8.10"
  }
 },
 "nbformat": 4,
 "nbformat_minor": 5
}
