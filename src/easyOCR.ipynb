{
 "cells": [
  {
   "cell_type": "code",
   "execution_count": 1,
   "metadata": {},
   "outputs": [],
   "source": [
    "import pandas as pd\n",
    "import os"
   ]
  },
  {
   "cell_type": "code",
   "execution_count": 2,
   "metadata": {},
   "outputs": [],
   "source": [
    "dataframe=pd.read_csv('../dataset/new_dataset.csv')"
   ]
  },
  {
   "cell_type": "code",
   "execution_count": null,
   "metadata": {},
   "outputs": [],
   "source": [
    "import easyocr\n",
    "import requests\n",
    "from PIL import Image\n",
    "from io import BytesIO\n",
    "\n",
    "def ocr_from_image_url(url):\n",
    "    # Initialize the EasyOCR reader\n",
    "    reader = easyocr.Reader(['en'], gpu=True)  # Use gpu=True if you have a GPU and want to use it\n",
    "    \n",
    "    try:\n",
    "        # Get the image from the URL\n",
    "        response = requests.get(url)\n",
    "        response.raise_for_status()  # Check if the request was successful\n",
    "\n",
    "        # Open the image\n",
    "        image = Image.open(BytesIO(response.content))\n",
    "\n",
    "        # Perform OCR on the image\n",
    "        results = reader.readtext(image)\n",
    "        \n",
    "        # Extract and combine the text from the results\n",
    "        extracted_text = ' '.join([result[1] for result in results])\n",
    "        \n",
    "        return extracted_text\n",
    "\n",
    "    except requests.exceptions.RequestException as e:\n",
    "        return f\"Error downloading the image: {e}\"\n",
    "    except Exception as e:\n",
    "        return f\"Error processing the image: {e}\""
   ]
  }
 ],
 "metadata": {
  "kernelspec": {
   "display_name": "Python 3",
   "language": "python",
   "name": "python3"
  },
  "language_info": {
   "codemirror_mode": {
    "name": "ipython",
    "version": 3
   },
   "file_extension": ".py",
   "mimetype": "text/x-python",
   "name": "python",
   "nbconvert_exporter": "python",
   "pygments_lexer": "ipython3",
   "version": "3.8.10"
  }
 },
 "nbformat": 4,
 "nbformat_minor": 2
}
